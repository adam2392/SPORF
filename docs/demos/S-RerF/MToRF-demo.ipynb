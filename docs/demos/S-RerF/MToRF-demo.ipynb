{
 "cells": [
  {
   "cell_type": "markdown",
   "metadata": {},
   "source": [
    "# Multivariate Time Series Random-Forests\n",
    "\n"
   ]
  },
  {
   "cell_type": "code",
   "execution_count": 1,
   "metadata": {},
   "outputs": [
    {
     "name": "stdout",
     "output_type": "stream",
     "text": [
      "/Users/adam2392/Documents/SPORF\n"
     ]
    }
   ],
   "source": [
    "cd ../../../"
   ]
  },
  {
   "cell_type": "code",
   "execution_count": 9,
   "metadata": {},
   "outputs": [],
   "source": [
    "import pandas as pd\n",
    "from scipy import stats\n",
    "import numpy as np\n",
    "\n",
    "import matplotlib\n",
    "import matplotlib.pyplot as plt\n",
    "from matplotlib.colors import ListedColormap\n",
    "%matplotlib inline\n",
    "import seaborn as sns\n",
    "\n",
    "import pickle\n",
    "import time\n",
    "from tqdm import tqdm\n",
    "\n",
    "from sklearn.model_selection import train_test_split\n",
    "from sklearn.linear_model import LogisticRegression\n",
    "from sklearn.svm import LinearSVC\n",
    "from sklearn.svm import SVC\n",
    "from sklearn.ensemble import RandomForestClassifier\n",
    "from sklearn.neural_network import MLPClassifier\n",
    "from sklearn.neighbors import KNeighborsClassifier\n",
    "\n",
    "from rerf.rerfClassifier import rerfClassifier\n",
    "\n",
    "import warnings\n",
    "warnings.simplefilter('ignore')"
   ]
  },
  {
   "cell_type": "code",
   "execution_count": 3,
   "metadata": {},
   "outputs": [],
   "source": [
    "def samp(n, cls=0):\n",
    "    ## Sample n samples from either class 0 or 1\n",
    "    M0 = 20 # Onset of impulse response\n",
    "    M1 = 100-M0\n",
    "    func = lambda x: [np.exp(-0.1*(j-M0)) if j >= M0 else 0.0 for j in x] # Impulse response function\n",
    "    if cls == 0:\n",
    "        X = np.full((n,M0+M1),0.0)\n",
    "        Y = np.full(n,cls)\n",
    "    elif cls == 1:\n",
    "        X = np.tile(func(np.arange(0,M0+M1)),reps=(n,1))\n",
    "        Y = np.full(n,cls)\n",
    "\n",
    "    # White noise\n",
    "    X += np.random.normal(0,1,size=(n,M0+M1))\n",
    "\n",
    "    return(X,Y)\n",
    "\n",
    "def mixed_samp(n0,n1,shuffle=True):\n",
    "    ## Generate a collection of mixed class (shuffled) observations\n",
    "    X0,Y0 = samp(n0,cls=0)\n",
    "    X1,Y1 = samp(n1,cls=1)\n",
    "    X = np.vstack([X0,X1])\n",
    "    Y = np.hstack([Y0,Y1])\n",
    "    if shuffle:\n",
    "        shuffled_idx= list(range(n0+n1)); np.random.shuffle(shuffled_idx)\n",
    "        X = X[shuffled_idx]\n",
    "        Y = Y[shuffled_idx]\n",
    "    return(X,Y)"
   ]
  },
  {
   "cell_type": "code",
   "execution_count": 12,
   "metadata": {},
   "outputs": [],
   "source": [
    "def correlated_samples(nchs, n, cls=0, num_noise_chs=3):\n",
    "    # The desired mean values of the sample.\n",
    "    mu = np.array([5.0, \n",
    "                    0.0, \n",
    "                    10.0])\n",
    "    \n",
    "    y_noise = np.random.random((num_noise_chs, n))\n",
    "\n",
    "    # The desired covariance matrix.\n",
    "    if cls == 0:\n",
    "        r = np.array([\n",
    "            [  3, -2.75, -2.00],\n",
    "            [ -2.75,  5,  1.50],\n",
    "            [ -2.00,  1.50,  1]\n",
    "        ])\n",
    "    elif cls == 1:\n",
    "        r = np.array([\n",
    "            [  3, 0, 0],\n",
    "            [ 0,  5, 0],\n",
    "            [ 0,  0,  1]\n",
    "        ])\n",
    "    \n",
    "    # Generate the random samples.\n",
    "    y = np.random.multivariate_normal(mu, r, size=n).T\n",
    "    \n",
    "    y = np.vstack((y[0,:], y_noise[0,:], y[1,:], \n",
    "                        y_noise[1,:], y[2,:], y_noise[2,:]))\n",
    "    \n",
    "    return y"
   ]
  },
  {
   "cell_type": "code",
   "execution_count": 47,
   "metadata": {},
   "outputs": [
    {
     "name": "stdout",
     "output_type": "stream",
     "text": [
      "(350, 6, 100)\n",
      "(350, 600) (350,) (350, 600)\n"
     ]
    }
   ],
   "source": [
    "np.random.seed(1234)\n",
    "\n",
    "# length of data sequence\n",
    "ns = np.array([50,100,200,\n",
    "#                400,1000,2000\n",
    "              ])\n",
    "test_size = 0.5\n",
    "\n",
    "# simulated data parameters\n",
    "T = 100\n",
    "nchs = 6\n",
    "\n",
    "# initialize data structures for train/test data\n",
    "X_train, Y_train = np.empty(shape=(0,nchs,T)), np.empty(shape=(0))\n",
    "X_test, Y_test = np.empty(shape=(0,nchs,T)), np.empty(shape=(0))\n",
    "\n",
    "# simulate over varying sizes of data sequence\n",
    "for n in ns:\n",
    "    y = []\n",
    "    X = []\n",
    "    \n",
    "    # generate correlated multi-variate time series\n",
    "    for i in range(n):\n",
    "        _x = correlated_samples(nchs, T, cls=0)\n",
    "        X.append(_x)\n",
    "        y.append(0)\n",
    "    for i in range(n):\n",
    "        _x = correlated_samples(nchs, T, cls=1)\n",
    "        X.append(_x)\n",
    "        y.append(1)\n",
    "    X = np.array(X)\n",
    "    y = np.array(y)\n",
    "    \n",
    "    # perform training test split\n",
    "    _X_train, _X_test, _y_train, _y_test = train_test_split(X, y, \n",
    "                                                        test_size=test_size, \n",
    "                                                        random_state=42)\n",
    "    X_train = np.vstack((X_train, _X_train))\n",
    "    Y_train = np.hstack((Y_train, _y_train))\n",
    "    X_test = np.vstack((X_test, _X_test))\n",
    "    Y_test = np.hstack((Y_test, _y_test))\n",
    "\n",
    "print(X_train.shape)\n",
    "X_train = X_train.reshape(X_train.shape[0], -1)\n",
    "X_test = X_test.reshape(X_test.shape[0], -1)\n",
    "print(X_train.shape, Y_train.shape, X_test.shape)"
   ]
  },
  {
   "cell_type": "code",
   "execution_count": 20,
   "metadata": {},
   "outputs": [
    {
     "data": {
      "image/png": "[encoded data removed]",
      "text/plain": [
       "<Figure size 432x288 with 1 Axes>"
      ]
     },
     "metadata": {
      "needs_background": "light"
     },
     "output_type": "display_data"
    }
   ],
   "source": [
    "# Plot various projections of the samples.\n",
    "plt.subplot(1,1,1)\n",
    "for i in range(6):\n",
    "    plt.plot(X_train[0, i,:]+np.r_[i])\n",
    "plt.ylabel('y[1]')\n",
    "# plt.axis('equal')\n",
    "plt.grid(True)\n",
    "\n",
    "plt.show()"
   ]
  },
  {
   "cell_type": "markdown",
   "metadata": {},
   "source": [
    "# Initialize Classifier and Baseline Models"
   ]
  },
  {
   "cell_type": "code",
   "execution_count": 54,
   "metadata": {},
   "outputs": [],
   "source": [
    "## Setup for run\n",
    "names = {\"Log. Reg\": \"blue\", \"Lin. SVM\":\"firebrick\", \"SVM\":\"purple\",\n",
    "          \"kNN\": \"black\", \"RF\":\"#f86000\", \"MLP\":\"green\", \"S-RerF\":\"red\", \"MT-MORF\": \"orange\"}\n",
    "\n",
    "ncores=1\n",
    "num_runs=1\n",
    "n_est=100  # number of estimators\n",
    "\n",
    "classifiers = [\n",
    "    LogisticRegression(random_state=0, n_jobs=ncores, solver='liblinear'),\n",
    "    LinearSVC(),\n",
    "    SVC(C=1.0, kernel='rbf', gamma='auto',random_state=0),\n",
    "    KNeighborsClassifier(3, n_jobs=ncores),\n",
    "    RandomForestClassifier(n_estimators=n_est, max_features='auto', n_jobs=ncores),\n",
    "    MLPClassifier(hidden_layer_sizes=(100, ), random_state=0, max_iter=1000),\n",
    "    rerfClassifier(projection_matrix=\"S-RerF\",\n",
    "                   max_features='auto',\n",
    "                   n_jobs=ncores,\n",
    "                    n_estimators=n_est,\n",
    "                    oob_score=False,\n",
    "                    random_state=0,\n",
    "                    image_height=nchs,\n",
    "                    image_width=T,\n",
    "                    patch_height_max=2,\n",
    "                    patch_height_min=1,\n",
    "                    patch_width_max=20,\n",
    "                    patch_width_min=2\n",
    "                   ),\n",
    "    rerfClassifier(projection_matrix=\"MT-MORF\",\n",
    "                   max_features='auto',\n",
    "                   n_jobs=ncores,\n",
    "                    n_estimators=n_est,\n",
    "                    oob_score=False,\n",
    "                    random_state=0,\n",
    "                    image_height=nchs,\n",
    "                    image_width=T,\n",
    "                    patch_height_max=2,\n",
    "                    patch_height_min=1,\n",
    "                    patch_width_max=20,\n",
    "                    patch_width_min=2\n",
    "                   )\n",
    "    ]"
   ]
  },
  {
   "cell_type": "markdown",
   "metadata": {},
   "source": [
    "# Run Classification Comparison Experiment\n",
    "\n",
    "Perform a classification over all models, and then summarize in a figure"
   ]
  },
  {
   "cell_type": "code",
   "execution_count": 55,
   "metadata": {},
   "outputs": [
    {
     "name": "stdout",
     "output_type": "stream",
     "text": [
      "About to run 24 clf experiments\n",
      "50\n",
      "[ 50 100 200]\n",
      "8\n",
      "1\n"
     ]
    }
   ],
   "source": [
    "runList = [(n, clf, run) for n in ns\\\n",
    "                       for clf in zip(classifiers, [key for key in names])\\\n",
    "                       for run in range(num_runs)]\n",
    "print(\"About to run\", len(runList), \"clf experiments\")\n",
    "print(n)\n",
    "print(ns)\n",
    "print(len(classifiers))\n",
    "print(num_runs)"
   ]
  },
  {
   "cell_type": "code",
   "execution_count": 57,
   "metadata": {},
   "outputs": [
    {
     "name": "stderr",
     "output_type": "stream",
     "text": [
      " 21%|██        | 5/24 [00:00<00:00, 26.10it/s]"
     ]
    },
    {
     "name": "stdout",
     "output_type": "stream",
     "text": [
      "(LogisticRegression(C=1.0, class_weight=None, dual=False, fit_intercept=True,\n",
      "                   intercept_scaling=1, l1_ratio=None, max_iter=100,\n",
      "                   multi_class='warn', n_jobs=1, penalty='l2', random_state=0,\n",
      "                   solver='liblinear', tol=0.0001, verbose=0, warm_start=False), 'Log. Reg')\n",
      "(LinearSVC(C=1.0, class_weight=None, dual=True, fit_intercept=True,\n",
      "          intercept_scaling=1, loss='squared_hinge', max_iter=1000,\n",
      "          multi_class='ovr', penalty='l2', random_state=None, tol=0.0001,\n",
      "          verbose=0), 'Lin. SVM')\n",
      "(SVC(C=1.0, cache_size=200, class_weight=None, coef0=0.0,\n",
      "    decision_function_shape='ovr', degree=3, gamma='auto', kernel='rbf',\n",
      "    max_iter=-1, probability=False, random_state=0, shrinking=True, tol=0.001,\n",
      "    verbose=False), 'SVM')\n",
      "(KNeighborsClassifier(algorithm='auto', leaf_size=30, metric='minkowski',\n",
      "                     metric_params=None, n_jobs=1, n_neighbors=3, p=2,\n",
      "                     weights='uniform'), 'kNN')\n",
      "(RandomForestClassifier(bootstrap=True, class_weight=None, criterion='gini',\n",
      "                       max_depth=None, max_features='auto', max_leaf_nodes=None,\n",
      "                       min_impurity_decrease=0.0, min_impurity_split=None,\n",
      "                       min_samples_leaf=1, min_samples_split=2,\n",
      "                       min_weight_fraction_leaf=0.0, n_estimators=100, n_jobs=1,\n",
      "                       oob_score=False, random_state=None, verbose=0,\n",
      "                       warm_start=False), 'RF')\n",
      "(MLPClassifier(activation='relu', alpha=0.0001, batch_size='auto', beta_1=0.9,\n",
      "              beta_2=0.999, early_stopping=False, epsilon=1e-08,\n",
      "              hidden_layer_sizes=(100,), learning_rate='constant',\n",
      "              learning_rate_init=0.001, max_iter=1000, momentum=0.9,\n",
      "              n_iter_no_change=10, nesterovs_momentum=True, power_t=0.5,\n",
      "              random_state=0, shuffle=True, solver='adam', tol=0.0001,\n",
      "              validation_fraction=0.1, verbose=False, warm_start=False), 'MLP')\n"
     ]
    },
    {
     "name": "stderr",
     "output_type": "stream",
     "text": [
      " 25%|██▌       | 6/24 [00:00<00:01, 12.73it/s]"
     ]
    },
    {
     "name": "stdout",
     "output_type": "stream",
     "text": [
      "(rerfClassifier(feature_combinations=1.5, image_height=6, image_width=100,\n",
      "               max_depth=None, max_features='auto', min_samples_split=1,\n",
      "               n_estimators=100, n_jobs=1, oob_score=False, patch_height_max=2,\n",
      "               patch_height_min=1, patch_width_max=20, patch_width_min=2,\n",
      "               projection_matrix='S-RerF', random_state=0), 'S-RerF')\n",
      "(rerfClassifier(feature_combinations=1.5, image_height=6, image_width=100,\n",
      "               max_depth=None, max_features='auto', min_samples_split=1,\n",
      "               n_estimators=100, n_jobs=1, oob_score=False, patch_height_max=2,\n",
      "               patch_height_min=1, patch_width_max=20, patch_width_min=2,\n",
      "               projection_matrix='MT-MORF', random_state=0), 'MT-MORF')\n"
     ]
    },
    {
     "name": "stderr",
     "output_type": "stream",
     "text": [
      "\n"
     ]
    },
    {
     "ename": "ValueError",
     "evalue": "Incorrect projection matrix",
     "output_type": "error",
     "traceback": [
      "\u001b[0;31m---------------------------------------------------------------------------\u001b[0m",
      "\u001b[0;31mValueError\u001b[0m                                Traceback (most recent call last)",
      "\u001b[0;32m<ipython-input-57-f387ea75ec3a>\u001b[0m in \u001b[0;36m<module>\u001b[0;34m\u001b[0m\n\u001b[1;32m     15\u001b[0m \u001b[0;34m\u001b[0m\u001b[0m\n\u001b[1;32m     16\u001b[0m     \u001b[0mtrainStartTime\u001b[0m \u001b[0;34m=\u001b[0m \u001b[0mtime\u001b[0m\u001b[0;34m.\u001b[0m\u001b[0mtime\u001b[0m\u001b[0;34m(\u001b[0m\u001b[0;34m)\u001b[0m\u001b[0;34m\u001b[0m\u001b[0;34m\u001b[0m\u001b[0m\n\u001b[0;32m---> 17\u001b[0;31m     \u001b[0mclf\u001b[0m\u001b[0;34m[\u001b[0m\u001b[0;36m0\u001b[0m\u001b[0;34m]\u001b[0m\u001b[0;34m.\u001b[0m\u001b[0mfit\u001b[0m\u001b[0;34m(\u001b[0m\u001b[0mX\u001b[0m\u001b[0;34m,\u001b[0m \u001b[0my\u001b[0m\u001b[0;34m)\u001b[0m\u001b[0;34m\u001b[0m\u001b[0;34m\u001b[0m\u001b[0m\n\u001b[0m\u001b[1;32m     18\u001b[0m     \u001b[0mtrainEndTime\u001b[0m \u001b[0;34m=\u001b[0m \u001b[0mtime\u001b[0m\u001b[0;34m.\u001b[0m\u001b[0mtime\u001b[0m\u001b[0;34m(\u001b[0m\u001b[0;34m)\u001b[0m\u001b[0;34m\u001b[0m\u001b[0;34m\u001b[0m\u001b[0m\n\u001b[1;32m     19\u001b[0m     \u001b[0mtrainTime\u001b[0m \u001b[0;34m=\u001b[0m \u001b[0mtrainEndTime\u001b[0m \u001b[0;34m-\u001b[0m \u001b[0mtrainStartTime\u001b[0m\u001b[0;34m\u001b[0m\u001b[0;34m\u001b[0m\u001b[0m\n",
      "\u001b[0;32m~/miniconda3/envs/rf/lib/python3.7/site-packages/rerf/rerfClassifier.py\u001b[0m in \u001b[0;36mfit\u001b[0;34m(self, X, y)\u001b[0m\n\u001b[1;32m    268\u001b[0m             \u001b[0mself\u001b[0m\u001b[0;34m.\u001b[0m\u001b[0mforest_\u001b[0m\u001b[0;34m.\u001b[0m\u001b[0msetParameter\u001b[0m\u001b[0;34m(\u001b[0m\u001b[0;34m\"patchWidthMin\"\u001b[0m\u001b[0;34m,\u001b[0m \u001b[0mself\u001b[0m\u001b[0;34m.\u001b[0m\u001b[0mpatch_width_min_\u001b[0m\u001b[0;34m)\u001b[0m\u001b[0;34m\u001b[0m\u001b[0;34m\u001b[0m\u001b[0m\n\u001b[1;32m    269\u001b[0m         \u001b[0;32melse\u001b[0m\u001b[0;34m:\u001b[0m\u001b[0;34m\u001b[0m\u001b[0;34m\u001b[0m\u001b[0m\n\u001b[0;32m--> 270\u001b[0;31m             \u001b[0;32mraise\u001b[0m \u001b[0mValueError\u001b[0m\u001b[0;34m(\u001b[0m\u001b[0;34m\"Incorrect projection matrix\"\u001b[0m\u001b[0;34m)\u001b[0m\u001b[0;34m\u001b[0m\u001b[0;34m\u001b[0m\u001b[0m\n\u001b[0m\u001b[1;32m    271\u001b[0m         \u001b[0mself\u001b[0m\u001b[0;34m.\u001b[0m\u001b[0mforest_\u001b[0m\u001b[0;34m.\u001b[0m\u001b[0msetParameter\u001b[0m\u001b[0;34m(\u001b[0m\u001b[0;34m\"forestType\"\u001b[0m\u001b[0;34m,\u001b[0m \u001b[0mforestType\u001b[0m\u001b[0;34m)\u001b[0m\u001b[0;34m\u001b[0m\u001b[0;34m\u001b[0m\u001b[0m\n\u001b[1;32m    272\u001b[0m \u001b[0;34m\u001b[0m\u001b[0m\n",
      "\u001b[0;31mValueError\u001b[0m: Incorrect projection matrix"
     ]
    }
   ],
   "source": [
    "# Train each classifier on each dataset size, then test\n",
    "# Prep output file:\n",
    "f = open('mt-morf_impulse_experiment.csv', 'w+')\n",
    "f.write(\"classifier,n,Lhat,trainTime,testTime,iterate\\n\")\n",
    "f.flush()\n",
    "\n",
    "for n, clf, iteration in tqdm(runList):\n",
    "    print(clf)\n",
    "    if X_train.ndim == 3:\n",
    "        X_train = X_train.reshape(-1, X_train.shape[-1]).T\n",
    "    if X_test.ndim == 3:\n",
    "        X_test = X_test.reshape(-1, X_test.shape[-1]).T\n",
    "    X = X_train[:n]\n",
    "    y = Y_train[:n]\n",
    "\n",
    "    trainStartTime = time.time()\n",
    "    clf[0].fit(X, y)\n",
    "    trainEndTime = time.time()\n",
    "    trainTime = trainEndTime - trainStartTime\n",
    "\n",
    "    testStartTime = time.time()\n",
    "    out = clf[0].predict(X_test)\n",
    "    testEndTime = time.time()\n",
    "    testTime = testEndTime - testStartTime\n",
    "\n",
    "    lhat = np.mean(np.not_equal(out, Y_test).astype(int))\n",
    "\n",
    "\n",
    "    ####(\"variable,Lhat,trainTime,testTime,iterate\")\n",
    "    f.write(f\"{clf[1]}, {n}, {lhat:2.9f}, {trainTime:2.9f}, {testTime:2.9f}, {iteration}\\n\")\n",
    "    f.flush()\n",
    "\n",
    "f.close()"
   ]
  },
  {
   "cell_type": "code",
   "execution_count": null,
   "metadata": {},
   "outputs": [],
   "source": [
    "dat = pd.read_csv(\"s-rerf_impulse_experiment.csv\")\n",
    "\n",
    "d1 = pd.DataFrame(columns = ['classifier', 'n', 'Lhat', 'color'])\n",
    "\n",
    "k = 0\n",
    "for ni in np.unique(dat['n']):\n",
    "    for cl in np.unique(dat['classifier']):\n",
    "\n",
    "        tmp = dat[np.logical_and(dat['classifier'] == cl,dat['n'] == ni)][['n', 'Lhat']]\n",
    "\n",
    "        list(tmp.mean())\n",
    "        d1.loc[k] = [cl] + list(tmp.mean()) + [names[cl]]\n",
    "        k += 1\n",
    "\n",
    "\n",
    "sns.set(style=\"darkgrid\", rc={'figure.figsize':[12,8], 'figure.dpi': 300})\n",
    "fig, ax = plt.subplots(figsize = (8,6))\n",
    "\n",
    "for key in names.keys():\n",
    "    grp = d1[d1['classifier'] == key]\n",
    "    ax = grp.plot(ax=ax, kind='line', x='n', y='Lhat', label=key, \\\n",
    "            c = names[key], alpha =0.65)\n",
    "    #ax.set_yscale('log')\n",
    "\n",
    "plt.legend(loc='best',title='Algorithm')\n",
    "plt.title('Algorithm Comparison')\n",
    "plt.ylabel('Mean Test Error')\n",
    "plt.xlabel('Number of Training Samples')\n",
    "#plt.savefig('./s-rerf_impulse_experiment.pdf',dpi=300,format='pdf')\n",
    "plt.show()"
   ]
  }
 ],
 "metadata": {
  "kernelspec": {
   "display_name": "rf",
   "language": "python",
   "name": "rf"
  },
  "language_info": {
   "codemirror_mode": {
    "name": "ipython",
    "version": 3
   },
   "file_extension": ".py",
   "mimetype": "text/x-python",
   "name": "python",
   "nbconvert_exporter": "python",
   "pygments_lexer": "ipython3",
   "version": "3.7.3"
  }
 },
 "nbformat": 4,
 "nbformat_minor": 2
}
